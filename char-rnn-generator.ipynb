{
 "cells": [
  {
   "cell_type": "code",
   "execution_count": 1,
   "metadata": {},
   "outputs": [
    {
     "name": "stdout",
     "output_type": "stream",
     "text": [
      "file_len = 63346715\n"
     ]
    }
   ],
   "source": [
    "import unidecode\n",
    "import string\n",
    "import random\n",
    "import re\n",
    "import torch\n",
    "import torch.nn as nn\n",
    "from torch.autograd import Variable\n",
    "\n",
    "all_characters = string.printable\n",
    "n_characters = len(all_characters)\n",
    "\n",
    "# Unix code used to remove relic binary\n",
    "# tr -cd '\\11\\12\\15\\40-\\176' < file-with-binary-chars > clean-file\n",
    "\n",
    "file = unidecode.unidecode(open('/home/paperspace/Documents/GitHub/data/cleanproposaltxt.txt').read())\n",
    "file_len = len(file)\n",
    "print('file_len =', file_len)"
   ]
  },
  {
   "cell_type": "code",
   "execution_count": 2,
   "metadata": {
    "collapsed": true
   },
   "outputs": [],
   "source": [
    "use_cuda = torch.cuda.is_available()\n",
    "dtype = torch.cuda.LongTensor if use_cuda else torch.LongTensor"
   ]
  },
  {
   "cell_type": "code",
   "execution_count": 3,
   "metadata": {},
   "outputs": [
    {
     "name": "stdout",
     "output_type": "stream",
     "text": [
      " supply of construction materials as defined in the Bulk Materials Allocation Matrix.\n",
      "Unit rates include all indirect costs.\n",
      "\n",
      "Definition of Measurement\n",
      "Pipe quantities are based on cut lengths.\n",
      "\n",
      "Modula\n"
     ]
    }
   ],
   "source": [
    "chunk_len = 200\n",
    "\n",
    "def random_chunk():\n",
    "    start_index = random.randint(0, file_len - chunk_len)\n",
    "    end_index = start_index + chunk_len + 1\n",
    "    return file[start_index:end_index]\n",
    "\n",
    "print(random_chunk())"
   ]
  },
  {
   "cell_type": "code",
   "execution_count": 4,
   "metadata": {},
   "outputs": [
    {
     "name": "stdout",
     "output_type": "stream",
     "text": [
      "tractor achieving the best overall score is designated as the Contractor of the Month.  \n",
      "Kick-Off Meetings\n",
      "Prior to commencement of the works on the worksite, a kick-off meeting will be set up between \n",
      "*\n",
      "r\n",
      "*\n",
      "t\n"
     ]
    }
   ],
   "source": [
    "a = random_chunk()\n",
    "print(a)\n",
    "print('*')\n",
    "print(a[1])\n",
    "print('*')\n",
    "print(a[0])"
   ]
  },
  {
   "cell_type": "code",
   "execution_count": 5,
   "metadata": {
    "collapsed": true
   },
   "outputs": [],
   "source": [
    "\n",
    "class RNN(nn.Module):\n",
    "    def __init__(self, input_size, hidden_size, output_size, n_layers=1):\n",
    "        super(RNN, self).__init__()\n",
    "        self.input_size = input_size\n",
    "        self.hidden_size = hidden_size\n",
    "        self.output_size = output_size\n",
    "        self.n_layers = n_layers\n",
    "        \n",
    "        self.encoder = nn.Embedding(input_size, hidden_size)\n",
    "        self.gru = nn.GRU(hidden_size, hidden_size, n_layers)\n",
    "        self.decoder = nn.Linear(hidden_size, output_size)\n",
    "    \n",
    "    def forward(self, input, hidden):\n",
    "        input = self.encoder(input.view(1, -1))\n",
    "        output, hidden = self.gru(input.view(1, 1, -1), hidden)\n",
    "        output = self.decoder(output.view(1, -1))\n",
    "        return output, hidden\n",
    "\n",
    "    def init_hidden(self):\n",
    "        return Variable(torch.zeros(self.n_layers, 1, self.hidden_size).cuda())"
   ]
  },
  {
   "cell_type": "code",
   "execution_count": 6,
   "metadata": {},
   "outputs": [
    {
     "name": "stdout",
     "output_type": "stream",
     "text": [
      "Variable containing:\n",
      " 10\n",
      " 11\n",
      " 12\n",
      " 39\n",
      " 40\n",
      " 41\n",
      "[torch.cuda.LongTensor of size 6 (GPU 0)]\n",
      "\n"
     ]
    }
   ],
   "source": [
    "# Turn string into list of longs\n",
    "def char_tensor(string):\n",
    "    if use_cuda:\n",
    "        tensor = torch.zeros(len(string)).long().cuda()\n",
    "    else:\n",
    "        tensor = torch.zeros(len(string)).long()\n",
    "    for c in range(len(string)):\n",
    "        tensor[c] = all_characters.index(string[c])\n",
    "    return Variable(tensor)\n",
    "\n",
    "print(char_tensor('abcDEF'))"
   ]
  },
  {
   "cell_type": "code",
   "execution_count": 7,
   "metadata": {
    "collapsed": true
   },
   "outputs": [],
   "source": [
    "def random_training_set():    \n",
    "    chunk = random_chunk()\n",
    "    inp = char_tensor(chunk[:-1])\n",
    "    target = char_tensor(chunk[1:])\n",
    "    return inp, target"
   ]
  },
  {
   "cell_type": "code",
   "execution_count": 8,
   "metadata": {
    "collapsed": true
   },
   "outputs": [],
   "source": [
    "def evaluate(prime_str='A', predict_len=500, temperature=0.75):\n",
    "    hidden = decoder.init_hidden()\n",
    "    prime_input = char_tensor(prime_str)\n",
    "    predicted = prime_str\n",
    "\n",
    "    # Use priming string to \"build up\" hidden state\n",
    "    for p in range(len(prime_str) - 1):\n",
    "        _, hidden = decoder(prime_input[p], hidden)\n",
    "    inp = prime_input[-1]\n",
    "    \n",
    "    for p in range(predict_len):\n",
    "        output, hidden = decoder(inp, hidden)\n",
    "        \n",
    "        # Sample from the network as a multinomial distribution\n",
    "        output_dist = output.data.view(-1).div(temperature).exp()\n",
    "        top_i = torch.multinomial(output_dist, 1)[0]\n",
    "        \n",
    "        # Add predicted character to string and use as next input\n",
    "        predicted_char = all_characters[top_i]\n",
    "        predicted += predicted_char\n",
    "        inp = char_tensor(predicted_char)\n",
    "\n",
    "    return predicted"
   ]
  },
  {
   "cell_type": "code",
   "execution_count": 9,
   "metadata": {
    "collapsed": true
   },
   "outputs": [],
   "source": [
    "import time, math\n",
    "\n",
    "def time_since(since):\n",
    "    s = time.time() - since\n",
    "    m = math.floor(s / 60)\n",
    "    s -= m * 60\n",
    "    return '%dm %ds' % (m, s)"
   ]
  },
  {
   "cell_type": "code",
   "execution_count": 10,
   "metadata": {
    "collapsed": true
   },
   "outputs": [],
   "source": [
    "def train(inp, target):\n",
    "    hidden = decoder.init_hidden()\n",
    "    decoder.zero_grad()\n",
    "    loss = 0\n",
    "\n",
    "    for c in range(chunk_len):\n",
    "        output, hidden = decoder(inp[c], hidden)\n",
    "        loss += criterion(output, target[c])\n",
    "\n",
    "    loss.backward()\n",
    "    decoder_optimizer.step()\n",
    "\n",
    "    return loss.data[0] / chunk_len"
   ]
  },
  {
   "cell_type": "code",
   "execution_count": 11,
   "metadata": {
    "collapsed": true
   },
   "outputs": [],
   "source": [
    "def save_best(loss, best_loss):\n",
    "    if best_loss == None:\n",
    "        best_loss = loss\n",
    "        file = 'saved_models/best_save_model.p'\n",
    "        torch.save(decoder.state_dict(), file)\n",
    "    elif loss < best_loss:\n",
    "        best_loss = loss\n",
    "        file = 'saved_models/best_save_model.p'\n",
    "        torch.save(decoder.state_dict(), file)\n",
    "    return best_loss"
   ]
  },
  {
   "cell_type": "code",
   "execution_count": 12,
   "metadata": {
    "scrolled": true
   },
   "outputs": [
    {
     "name": "stdout",
     "output_type": "stream",
     "text": [
      "[0m 53s (100 2%) 2.6339]\n",
      "SNC-Lave and of mates and ins remesssuction copis be male Interic shedentes pine ondering copent of per \n",
      "\n",
      "[1m 45s (200 4%) 2.0208]\n",
      "SNC-Laval conditraction stal as and spection for e concity.\n",
      "Project and project reeentect for all Const \n",
      "\n",
      "[2m 38s (300 6%) 1.7088]\n",
      "SNC-Lavaling haut hereed all and sectare frot of the endor recort.  enditive sequins contractor or hand \n",
      "\n",
      "[3m 30s (400 8%) 2.1729]\n",
      "SNC-Lavalin and receibility.\n",
      "\n",
      "\n",
      " \n",
      "\n",
      "\n",
      "Wervice cases of a deasary not compessis projects bethin subublered  \n",
      "\n",
      "[4m 23s (500 10%) 1.6441]\n",
      "SNC-TRENTERTERTTRAPTANTORV Inderd to be of the intector of the commited and the LA) 2, Secording Stagra \n",
      "\n",
      "[5m 15s (600 12%) 1.3406]\n",
      "SNCLILExNTR ARCEONMEINTER IN OROETEN\n",
      "d\n",
      "TEPRMENTEEN) of active which deass of Maney the Kees of Project  \n",
      "\n",
      "[6m 8s (700 14%) 2.0124]\n",
      "SNC-Lavalin and construction an this the its repress of the Review vail to schedule for this, the contr \n",
      "\n",
      "[7m 1s (800 16%) 2.0944]\n",
      "SNC-Lavarion and provided enceed in elecial of the opperting to the verovary provided, providedized Eng \n",
      "\n",
      "[7m 55s (900 18%) 2.1351]\n",
      "SNC-Lavalins datase on the report of contractor ratisked with the the it or supplier or valved in compl \n",
      "\n",
      "[8m 48s (1000 20%) 1.5286]\n",
      "SNC-Lavalin, weekers\n",
      "Recurement and the data consigned to and engernation project scope are detailing a \n",
      "\n",
      "[9m 40s (1100 22%) 1.7721]\n",
      "SNC-Lavalin plan and the Complete facilitations.\n",
      "The COPANY Party Canadion FA expection facilitate the  \n",
      "\n",
      "[10m 33s (1200 24%) 1.3348]\n",
      "SNC-WORERETOR will assocual in a dicall a The reporting storical and in the process systember and and w \n",
      "\n",
      "[11m 26s (1300 26%) 1.6003]\n",
      "SNC-Lavalin Project and 90% and CoBing and gograted with the SNC-L-LLALII TERD performance exc.s office \n",
      "\n",
      "[12m 18s (1400 28%) 1.6215]\n",
      "SNC CA  ALTOR include for required in actives been cost the transmission have to in the toter process r \n",
      "\n",
      "[13m 10s (1500 30%) 1.3749]\n",
      "SNC-Lavalin in Systemp.  The demonsification below all a contractor of have importation or duiltation o \n",
      "\n",
      "[14m 2s (1600 32%) 1.6720]\n",
      "SNC-Lavalin if stellial / proposed in on the special systems, arised formance, work.\n",
      "\n",
      "\t\t\t\t\t\t\t\t\t\t\t\t\t\t\t\t\t \n",
      "\n",
      "[14m 54s (1700 34%) 1.5462]\n",
      "SNCGANER 21008\n",
      "\n",
      "\n",
      "The Project Engineering to the IFS GRO, at Control rate Its of CONTRACTOR state and al \n",
      "\n",
      "[15m 47s (1800 36%) 1.4897]\n",
      "SNC-Lavalins Impliminate and Engineering Project Managers\n",
      "The for the Project Managrement Manager Moor\n",
      " \n",
      "\n",
      "[16m 39s (1900 38%) 1.4196]\n",
      "SNC-Lavalin that the Pipelines for the Package Discipline proporate has demande to the cost confilitati \n",
      "\n",
      "[17m 31s (2000 40%) 1.5957]\n",
      "SNC-Lavalins with the of including standard), commits, perning will be construction of the controlled i \n",
      "\n",
      "[18m 24s (2100 42%) 1.4147]\n",
      "SNC-Lavalins which is air or expenses to negotiated in the support all covery addregath or transprestry \n",
      "\n",
      "[19m 15s (2200 44%) 1.3359]\n",
      "SNC-Lavalin and facilities and and and formation will be based on the unitable will be generables. It l \n",
      "\n",
      "[20m 6s (2300 46%) 1.7239]\n",
      "SNC-Lavalin and Basis HSE Hydrient the Project.\n",
      "\n",
      "In the Project Leades most budget executives and the m \n",
      "\n",
      "[20m 58s (2400 48%) 1.3757]\n",
      "SNC-Lavalin and sers produce and Taxes and forth the inspecting and Oil Trayments for is management to  \n",
      "\n",
      "[21m 52s (2500 50%) 1.6271]\n",
      "SNC-Lavalin with respection en the following included in close field during.\n",
      "Shere is dieffice to the m \n",
      "\n",
      "[22m 45s (2600 52%) 1.4183]\n",
      "SNC-Lavalin Procurement Bidders has persons and to head () de in the confirm with the objecial and incl \n",
      "\n",
      "[23m 38s (2700 54%) 1.4561]\n",
      "SNC-Lavalin budget immumpended, the suts of ensuring projects force using or on full and and the distem \n",
      "\n",
      "[24m 30s (2800 56%) 2.0748]\n",
      "SNC-Lavalin involved in the exxxxxxxxxxxxxxxxxxxxxxxxxxxxxxxxxxxxxxxxxxxxxxxxxxxxxxxxxxxxxxxxxxxxxxxxxx \n",
      "\n",
      "[25m 22s (2900 57%) 1.0307]\n",
      "SNC-Lavalin stress Process and Engineer in the Alliance Hauring and Contractor Engineer Client Project  \n",
      "\n",
      "[26m 14s (3000 60%) 1.3117]\n",
      "SNC-Lavalin of a Company this Agreement.\n",
      "Or from Services from \n",
      "\n",
      "\n",
      "\n",
      "\n",
      "Services and any Services and super \n",
      "\n",
      "[27m 8s (3100 62%) 1.0727]\n",
      "SNC-Lavalins Agreement shall be part or determines to the approopriate and invoice the details with the \n",
      "\n",
      "[27m 59s (3200 64%) 1.5773]\n",
      "SNC-Lavalin prepare data mepons time requirements are used to completion of the Firement Project Prepar \n",
      "\n",
      "[28m 52s (3300 66%) 1.0831]\n",
      "SNC-Lavalin the take or base for the commines in the preparence streatment of Services strategical bolk \n",
      "\n",
      "[29m 43s (3400 68%) 1.2956]\n",
      "SNC-Lavalin No a during and Forelation, approached and are added to addition and Work as Rates, be to l \n",
      "\n",
      "[30m 34s (3500 70%) 1.3079]\n",
      "SNC-Lavalin hourly samerial, instrument contractual and and imparty of package, party and Canada, Opera \n",
      "\n",
      "[31m 27s (3600 72%) 1.4487]\n",
      "SNC-Lavalin the marto-diagrams and engining, process, ensure that well we the following comply and indi \n",
      "\n",
      "[32m 20s (3700 74%) 1.6328]\n",
      "SNC-Lavalin is equipment.\n",
      "If risk such as project supplier parach with the Plains side the technical st \n",
      "\n",
      "[33m 15s (3800 76%) 1.0133]\n",
      "SNC-Lavalin supple recompanical the parties for any input the manhours organicisions was evering presen \n",
      "\n",
      "[34m 7s (3900 78%) 1.2126]\n",
      "SNC-Lavalin in the Contracts within the for ensurance supers of satute of work.  If application shippli \n",
      "\n",
      "[34m 59s (4000 80%) 1.6562]\n",
      "SNC-Lavalin Project Teck Document system, and explacing design of any one in logistical Services from O \n",
      "\n",
      "[35m 51s (4100 82%) 1.3275]\n",
      "SNC-Lavalin will be pursons inspection of the technical to be element the technical both shall and the  \n",
      "\n",
      "[36m 43s (4200 84%) 1.2304]\n",
      "SNC-Lavalin and the similar office is access to services to obtain CONTRACT sauding the required to or  \n",
      "\n",
      "[37m 35s (4300 86%) 1.3702]\n",
      "SNC-Lavalin of the equivaled in the Construction of Multipliers reviews and quent on attace in Executio \n",
      "\n",
      "[38m 27s (4400 88%) 0.9403]\n",
      "SNC-Lavalin Requirements. The Force to the Contractor Hask Project Leal Project/Engineering project man \n",
      "\n",
      "[39m 19s (4500 90%) 1.4004]\n",
      "SNC-LAVALINs Instruction Service River to master to the Coordinations\n",
      "Stors to CONTRACCONSULANSOC CANED \n",
      "\n",
      "[40m 11s (4600 92%) 1.4101]\n",
      "SNC-Lavalins Diestration within the premises and report Scope the work an part of at this Agreement sol \n",
      "\n",
      "[41m 3s (4700 94%) 1.9275]\n",
      "SNC-Lavalin input of unit is based specific and or once to provide related to obtain attached within th \n",
      "\n",
      "[41m 54s (4800 96%) 0.7929]\n",
      "SNC-Lavalin for plate and contractic recorgs and record or contractor will be refer to to the estimate  \n",
      "\n",
      "[42m 46s (4900 98%) 1.2067]\n",
      "SNC-Lavalin such as parties and performats and sub-consultant of the project proposal estimates.  The c \n",
      "\n",
      "[43m 38s (5000 100%) 1.6700]\n",
      "SNC-Lavalin pronicies and required for provide and a safety and tie-in the contractor information of th \n",
      "\n"
     ]
    }
   ],
   "source": [
    "n_epochs = 5000\n",
    "print_every = 100\n",
    "plot_every = 10\n",
    "hidden_size = 256\n",
    "n_layers = 2\n",
    "lr = 0.002\n",
    "\n",
    "\n",
    "def RNN_ifcuda(n_characters, hidden_size, n_layers):\n",
    "    model = RNN(n_characters, hidden_size, n_characters, n_layers)\n",
    "    if use_cuda:\n",
    "        model = model.cuda()\n",
    "    return model\n",
    "    \n",
    "\n",
    "decoder = RNN_ifcuda(n_characters, hidden_size, n_layers)\n",
    "decoder_optimizer = torch.optim.Adam(decoder.parameters(), lr=lr)\n",
    "criterion = nn.CrossEntropyLoss()\n",
    "\n",
    "start = time.time()\n",
    "all_losses = []\n",
    "loss_avg = 0\n",
    "best_loss = None\n",
    "\n",
    "for epoch in range(1, n_epochs + 1):\n",
    "    loss = train(*random_training_set())\n",
    "    save_best(loss, best_loss)\n",
    "    loss_avg += loss\n",
    "\n",
    "    if epoch % print_every == 0:\n",
    "        print('[%s (%d %d%%) %.4f]' % (time_since(start), epoch, epoch / n_epochs * 100, loss))\n",
    "        print(evaluate('SNC', 100), '\\n')\n",
    "\n",
    "    if epoch % plot_every == 0:\n",
    "        all_losses.append(loss_avg / plot_every)\n",
    "        loss_avg = 0"
   ]
  },
  {
   "cell_type": "code",
   "execution_count": 13,
   "metadata": {},
   "outputs": [
    {
     "data": {
      "text/plain": [
       "[<matplotlib.lines.Line2D at 0x7fd01c8906d8>]"
      ]
     },
     "execution_count": 13,
     "metadata": {},
     "output_type": "execute_result"
    },
    {
     "data": {
      "image/png": "[encoded data removed]",
      "text/plain": [
       "<matplotlib.figure.Figure at 0x7fd058aaac50>"
      ]
     },
     "metadata": {},
     "output_type": "display_data"
    }
   ],
   "source": [
    "import matplotlib.pyplot as plt\n",
    "import matplotlib.ticker as ticker\n",
    "%matplotlib inline\n",
    "\n",
    "plt.figure()\n",
    "plt.plot(all_losses)"
   ]
  },
  {
   "cell_type": "code",
   "execution_count": 14,
   "metadata": {},
   "outputs": [
    {
     "name": "stdout",
     "output_type": "stream",
     "text": [
      "SNC-Lavalin will the project of training. \n",
      "Engineering proposs schedule of the major arristing of the determet will be transfatage the project in this proposal with to the faillet of the consist and will member or event and work as a stallent or details are limited.  Specifications of work and engineering may section\n",
      "Project and management to mection can be consist are construction to the manual to completenation of the preparatihations (all such are commissioning a data and make and the design possessist and construction and costs of the purchase \n",
      "Installations prior to the material Drawing warrantice town applicance to the Base Hastable bost to informal assigning interchase a tof payment of procurement and contractors or carries of heat of applier to ensure the mating, work, including the required to the Hourly Rate notice to this paid to the engineering?\n",
      "\n",
      "If deficience and contractors and cause profits access of the drawings.\n",
      "Construction of the any include to model process construction of the safety and subcontrols are are reading can be canging utilize and resolved by Services to work as states at a purchase distribute to exclusides.  SNC-Lavalin his shall be calces including for measurement at approval.  Saudi SNC-Lavalin will provide of the work are in the execution of purchase our proims and all project access of this (personnel member in progres) will be proposal and training project management and for the following and costs of approved with the bm project the commissioning of for the can be requirements and installation.\n",
      "Majeure Incurrency management provision of the ensure the training modification and fabrications construction are construction acceptable with companyer jore inc. Notice to SNC-Lavalin and includesive of the based on be assigned to to the project scope of attacting our parties.  Design services required with SNC-Lavalin progressing.\n",
      "Turness of the taken disclose uner any completion of the Henew month progress states for the project activity project to the timple or used for the particulants and are control and adjust are categories defined and ensure the detailed establish the equipment system and for comercial further develop turnary will project and and to the performing project cause to the design wither provide the excerting of the training high may are documents and procedures to the enbrighta has available of the technical control and cost materials. \n",
      "SNC-Lavalins to any proposal contractor to the effective the project to the requirements and the projects are contractors scope of signification and accordance within SNC-Lavalin shall project satisfy taken and site executing and cause of matigency and management project of incurred parturing, to transportants; of this personnel are are completed to applicable for this management, informations petroling in the following management and construction a required for the multiplierianting and accours of two all of site as following and construction of the material material as all drawings is or shall be costs will be construction within the project will be contractors areas on the payments in the projects withoil model in the major can following:\n",
      "SNC-Lavalin will be reviewed in the permitt and material required by allow and materials.\n",
      "The Project to and scope of any informational states and documents and more assigned to the requirements and the engineering products to SNC-Lavalin of the work.  Creement and Safety and Hourly Saulation Stakenon subse any all existing to contract as design to procedures for the time the standard within the signing manual its are below, from an includes the intent and work.  Chemical work shall have the overall or the monthre assigned detective and material safety and any both hours.\n",
      "The equipment, list scope of the work a sarners material project competent of the management is establish prepared of the personnel valves once ENgineering vendor succes receedition of the software and environmental limit identified by the project design. \n",
      "Deliverable of the Work will project as per constractives well can be down satisfied addressing details and the material construction of the approved in liminating and the project activity of the requirements and other controls, propositional own or motoric, companys management, requirements. \n",
      "Contractor provided in this Scopt will be detailed and submissions of there meams is incorporated an inection.\n",
      "Personnel commissioning the compressor to hours reasonable and management management and the project, construction without a such will project.  Work Scope attilation and commitment methods take of the can bid and this project companies.\n",
      "\n",
      "Sask have in assigned production.\n",
      "The such as project with the project project in a to the expenses as work.  The matrix will, and aways, management with a personnel to be relating and matated to procurement management and processes and issuance of the Engineering\n",
      "Including Engineering Engineering and Project Execution\n",
      "Satigation of System  \n",
      "\n"
     ]
    }
   ],
   "source": [
    "print(evaluate('SNC', 5000), '\\n')"
   ]
  }
 ],
 "metadata": {
  "kernelspec": {
   "display_name": "Python 3",
   "language": "python",
   "name": "python3"
  },
  "language_info": {
   "codemirror_mode": {
    "name": "ipython",
    "version": 3
   },
   "file_extension": ".py",
   "mimetype": "text/x-python",
   "name": "python",
   "nbconvert_exporter": "python",
   "pygments_lexer": "ipython3",
   "version": "3.6.2"
  },
  "widgets": {
   "state": {},
   "version": "1.1.2"
  }
 },
 "nbformat": 4,
 "nbformat_minor": 2
}
