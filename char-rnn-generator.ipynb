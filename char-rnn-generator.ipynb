{
 "cells": [
  {
   "cell_type": "code",
   "execution_count": 1,
   "metadata": {},
   "outputs": [
    {
     "name": "stdout",
     "output_type": "stream",
     "text": [
      "file_len = 63346715\n"
     ]
    }
   ],
   "source": [
    "import unidecode\n",
    "import string\n",
    "import random\n",
    "import re\n",
    "\n",
    "all_characters = string.printable\n",
    "n_characters = len(all_characters)\n",
    "\n",
    "# Unix code used to remove relic binary\n",
    "# tr -cd '\\11\\12\\15\\40-\\176' < file-with-binary-chars > clean-file\n",
    "\n",
    "file = unidecode.unidecode(open('/home/z0m6ie/Documents/GitHub/datasets/cleanproposaltxt.txt').read())\n",
    "file_len = len(file)\n",
    "print('file_len =', file_len)"
   ]
  },
  {
   "cell_type": "code",
   "execution_count": 2,
   "metadata": {},
   "outputs": [
    {
     "name": "stdout",
     "output_type": "stream",
     "text": [
      "for steady state, Transient and slug analysis \n",
      "Prepared MRs and did TBE for line pipe, valves and other related materials for Pipeline.\n",
      "Participated and performed pipeline route selection trenching/ backfilling and crossing design\n",
      "Developed plan and profile drawings (Pipeline Typical), MLBV schematics drawings\n",
      "Developed alignment sheets\n",
      "Prepared scope of work manhour and cost estimates for pipeline\n"
     ]
    }
   ],
   "source": [
    "chunk_len = 400\n",
    "\n",
    "def random_chunk():\n",
    "    start_index = random.randint(0, file_len - chunk_len)\n",
    "    end_index = start_index + chunk_len + 1\n",
    "    return file[start_index:end_index]\n",
    "\n",
    "print(random_chunk())"
   ]
  },
  {
   "cell_type": "code",
   "execution_count": 12,
   "metadata": {
    "collapsed": true
   },
   "outputs": [],
   "source": [
    "import torch\n",
    "import torch.nn as nn\n",
    "from torch.autograd import Variable\n",
    "\n",
    "class RNN(nn.Module):\n",
    "    def __init__(self, input_size, hidden_size, output_size, n_layers=1):\n",
    "        super(RNN, self).__init__()\n",
    "        self.input_size = input_size\n",
    "        self.hidden_size = hidden_size\n",
    "        self.output_size = output_size\n",
    "        self.n_layers = n_layers\n",
    "        \n",
    "        self.encoder = nn.Embedding(input_size, hidden_size)\n",
    "        self.gru = nn.GRU(hidden_size, hidden_size, n_layers)\n",
    "        self.decoder = nn.Linear(hidden_size, output_size)\n",
    "    \n",
    "    def forward(self, input, hidden):\n",
    "        input = self.encoder(input.view(1, -1))\n",
    "        output, hidden = self.gru(input.view(1, 1, -1), hidden)\n",
    "        output = self.decoder(output.view(1, -1))\n",
    "        return output, hidden\n",
    "\n",
    "    def init_hidden(self):\n",
    "        return Variable(torch.zeros(self.n_layers, 1, self.hidden_size))"
   ]
  },
  {
   "cell_type": "code",
   "execution_count": 4,
   "metadata": {},
   "outputs": [
    {
     "name": "stdout",
     "output_type": "stream",
     "text": [
      "Variable containing:\n",
      " 10\n",
      " 11\n",
      " 12\n",
      " 39\n",
      " 40\n",
      " 41\n",
      "[torch.LongTensor of size 6]\n",
      "\n"
     ]
    }
   ],
   "source": [
    "# Turn string into list of longs\n",
    "def char_tensor(string):\n",
    "    tensor = torch.zeros(len(string)).long()\n",
    "    for c in range(len(string)):\n",
    "        tensor[c] = all_characters.index(string[c])\n",
    "    return Variable(tensor)\n",
    "\n",
    "print(char_tensor('abcDEF'))"
   ]
  },
  {
   "cell_type": "code",
   "execution_count": 5,
   "metadata": {
    "collapsed": true
   },
   "outputs": [],
   "source": [
    "def random_training_set():    \n",
    "    chunk = random_chunk()\n",
    "    inp = char_tensor(chunk[:-1])\n",
    "    target = char_tensor(chunk[1:])\n",
    "    return inp, target"
   ]
  },
  {
   "cell_type": "code",
   "execution_count": 6,
   "metadata": {
    "collapsed": true
   },
   "outputs": [],
   "source": [
    "def evaluate(prime_str='A', predict_len=200, temperature=0.8):\n",
    "    hidden = decoder.init_hidden()\n",
    "    prime_input = char_tensor(prime_str)\n",
    "    predicted = prime_str\n",
    "\n",
    "    # Use priming string to \"build up\" hidden state\n",
    "    for p in range(len(prime_str) - 1):\n",
    "        _, hidden = decoder(prime_input[p], hidden)\n",
    "    inp = prime_input[-1]\n",
    "    \n",
    "    for p in range(predict_len):\n",
    "        output, hidden = decoder(inp, hidden)\n",
    "        \n",
    "        # Sample from the network as a multinomial distribution\n",
    "        output_dist = output.data.view(-1).div(temperature).exp()\n",
    "        top_i = torch.multinomial(output_dist, 1)[0]\n",
    "        \n",
    "        # Add predicted character to string and use as next input\n",
    "        predicted_char = all_characters[top_i]\n",
    "        predicted += predicted_char\n",
    "        inp = char_tensor(predicted_char)\n",
    "\n",
    "    return predicted"
   ]
  },
  {
   "cell_type": "code",
   "execution_count": 7,
   "metadata": {
    "collapsed": true
   },
   "outputs": [],
   "source": [
    "import time, math\n",
    "\n",
    "def time_since(since):\n",
    "    s = time.time() - since\n",
    "    m = math.floor(s / 60)\n",
    "    s -= m * 60\n",
    "    return '%dm %ds' % (m, s)"
   ]
  },
  {
   "cell_type": "code",
   "execution_count": 8,
   "metadata": {
    "collapsed": true
   },
   "outputs": [],
   "source": [
    "def train(inp, target):\n",
    "    hidden = decoder.init_hidden()\n",
    "    decoder.zero_grad()\n",
    "    loss = 0\n",
    "\n",
    "    for c in range(chunk_len):\n",
    "        output, hidden = decoder(inp[c], hidden)\n",
    "        loss += criterion(output, target[c])\n",
    "\n",
    "    loss.backward()\n",
    "    decoder_optimizer.step()\n",
    "\n",
    "    return loss.data[0] / chunk_len"
   ]
  },
  {
   "cell_type": "code",
   "execution_count": 13,
   "metadata": {},
   "outputs": [
    {
     "name": "stdout",
     "output_type": "stream",
     "text": [
      "[1m 7s (100 3%) 2.0594]\n",
      "SNCLLIRAON^INL(IN.LL\n",
      "IPWTh$ upprees.\n",
      "\n",
      "The accact wating mate to as CSNWIDCSS/LBLILN8L,TI\tTAOIL CONTEBLE \n",
      "\n",
      "[2m 12s (200 6%) 1.6949]\n",
      "SNC-Laval and desubly for renegrepoders and revional or are or the make experies of or the report will  \n",
      "\n",
      "[3m 13s (300 10%) 1.5044]\n",
      "SNCORCAYY COD Tepos to thre eadner, ald Contatem Fatem to and Contrall to supplatead all of the Consult \n",
      "\n",
      "[4m 14s (400 13%) 1.8219]\n",
      "SNC chinees froso conslas\n",
      "Controls of All requiremented for tracin qualatians code is will be out to th \n",
      "\n",
      "[5m 14s (500 16%) 1.7897]\n",
      "SNCLTION\n",
      "\n",
      "\n",
      "Requirement cONTRACTORA ORers writtence additicial include detailin. Hourly have bates the i \n",
      "\n",
      "[6m 11s (600 20%) 1.8498]\n",
      "SNC\n",
      "Teher out safety construction and CPP recomment limition project all inestrasing of be Secessibled  \n",
      "\n",
      "[7m 9s (700 23%) 1.5963]\n",
      "SNC\n",
      "Praces report, the will mande with presents ifcluce and in progograss including, any the project th \n",
      "\n",
      "[8m 7s (800 26%) 1.3651]\n",
      "SNC issue properipon of Bidder in this deliverify approments or commus engineering the project \" Terman \n",
      "\n",
      "[9m 6s (900 30%) 1.5920]\n",
      "SNC shall project. The estimate all fanages, time with shall develop submit the documents in commanch t \n",
      "\n",
      "[10m 4s (1000 33%) 2.0999]\n",
      "SNC-LIVLINS\tNotified and 3 Environmentations (i) document for existinal proposally between hroug. Costs \n",
      "\n",
      "[11m 3s (1100 36%) 1.2873]\n",
      "SNC\t\n",
      "A\n",
      "1918CAC 1.11191-014 Also an immemation and for activities, 1111111001100%:\n",
      "LAPTRACTIONS\n",
      "Albe Cal \n",
      "\n",
      "[12m 1s (1200 40%) 1.4205]\n",
      "SNC-Lavalin of regualimancy of the procurement and disport the constrated the SNC-Lavalins\n",
      "Propose\n",
      "The  \n",
      "\n",
      "[12m 58s (1300 43%) 1.3498]\n",
      "SNC-Lavie wormed Condicate:\n",
      "Action Brown Assignations Gemaring appre-Personnel squate or in Condition s \n",
      "\n",
      "[13m 57s (1400 46%) 1.4618]\n",
      "SNC-Lavalin and                                                                                         \n",
      "\n",
      "[14m 55s (1500 50%) 1.2857]\n",
      "SNC-Lavalin applipletion and of an assumitions of Contract to procoure and evend butter the be continua \n",
      "\n",
      "[15m 54s (1600 53%) 1.4948]\n",
      "SNC-Lavalin sechaned but day, bubily produced work object and achieve electives from the recovery in br \n",
      "\n",
      "[16m 53s (1700 56%) 2.1202]\n",
      "SNC-Lavalin beogo not be piping determide befored to plans nate efforcost set the roless to meets, cons \n",
      "\n",
      "[17m 51s (1800 60%) 1.3936]\n",
      "SNC-LAILEANTIAct Calk it 9.5 now and party 9.5-2010 deplicared survey Biddork \n",
      "\n",
      "\n",
      "\n",
      "\n",
      "\n",
      "\n",
      "\n",
      "Reary property re \n",
      "\n",
      "[18m 48s (1900 63%) 1.8385]\n",
      "SNC-Lavalin sorgets final not the required to store the Control Material Banage (party its agreed of th \n",
      "\n",
      "[19m 45s (2000 66%) 1.3616]\n",
      "SNCater and incipline work.  Agreement of a commite-water and the assignment storks\n",
      "Nhartencaries of th \n",
      "\n",
      "[20m 43s (2100 70%) 1.0886]\n",
      "SNC-Lavalin and refing subsom is ton the porposing activity in tail and any limiticated to new will be  \n",
      "\n",
      "[21m 39s (2200 73%) 1.8901]\n",
      "SNCICEL will active the resultage and shle are representations of in the CAM des and and construction a \n",
      "\n",
      "[22m 38s (2300 76%) 1.4084]\n",
      "SNCOLINITEN\n",
      "\n",
      "\n",
      "T&P.2.\tWORFINTRACC SNC-Lavalin recording processess (B) incurding and montractors). The f \n",
      "\n",
      "[23m 38s (2400 80%) 1.3926]\n",
      "SNC-Lavalin Project Work munital limber cost is verified strateging exist areablements\n",
      "\n",
      "\n",
      "\n",
      "\n",
      "\n",
      "\n",
      "\n",
      "\n",
      "\n",
      "\n",
      "\n",
      "\n",
      "\n",
      "\n",
      "\n",
      "\n",
      " \n",
      "\n",
      "[24m 38s (2500 83%) 1.4071]\n",
      "SNC-LALGINA; INSTRACTION\n",
      "\n",
      "\n",
      "\n",
      "\n",
      "\n",
      "\n",
      "\n",
      "\n",
      "\n",
      "\n",
      "\n",
      "\n",
      "\n",
      "\n",
      "\n",
      "\n",
      "\n",
      "\n",
      "\n",
      "\n",
      "\n",
      "Siste Basines with the numbility to any sy of technical p \n",
      "\n",
      "[25m 38s (2600 86%) 1.2676]\n",
      "SNCaLlist\n",
      "Ane standard and plane shall carments appons de-invesigning and according in as in xx%\n",
      "CONNTR \n",
      "\n",
      "[26m 37s (2700 90%) 1.8780]\n",
      "SNC-Lavaling identified and different state entity. Rakewation Persond Pultipt term the accordination a \n",
      "\n",
      "[27m 35s (2800 93%) 1.4694]\n",
      "SNC No resests for obtaining performis, special will be agrodowing all seatics spack procedure inputs,  \n",
      "\n",
      "[28m 34s (2900 96%) 1.4788]\n",
      "SNCE Ration Consultant or consultant nepartmely subconited the time Anadiner\n",
      "\n",
      "\n",
      "\n",
      "\n",
      "[MEV) the SPCFEC PURME \n",
      "\n",
      "[29m 34s (3000 100%) 1.2522]\n",
      "SNC Officials of Scope: The C3OLackrause Contract with Contract or Required to any detailed pails of th \n",
      "\n"
     ]
    }
   ],
   "source": [
    "n_epochs = 3000\n",
    "print_every = 100\n",
    "plot_every = 10\n",
    "hidden_size = 200\n",
    "n_layers = 2\n",
    "lr = 0.005\n",
    "\n",
    "decoder = RNN(n_characters, hidden_size, n_characters, n_layers)\n",
    "decoder_optimizer = torch.optim.Adam(decoder.parameters(), lr=lr)\n",
    "criterion = nn.CrossEntropyLoss()\n",
    "\n",
    "start = time.time()\n",
    "all_losses = []\n",
    "loss_avg = 0\n",
    "\n",
    "for epoch in range(1, n_epochs + 1):\n",
    "    loss = train(*random_training_set())       \n",
    "    loss_avg += loss\n",
    "\n",
    "    if epoch % print_every == 0:\n",
    "        print('[%s (%d %d%%) %.4f]' % (time_since(start), epoch, epoch / n_epochs * 100, loss))\n",
    "        print(evaluate('SNC', 100), '\\n')\n",
    "\n",
    "    if epoch % plot_every == 0:\n",
    "        all_losses.append(loss_avg / plot_every)\n",
    "        loss_avg = 0"
   ]
  },
  {
   "cell_type": "code",
   "execution_count": 14,
   "metadata": {},
   "outputs": [
    {
     "data": {
      "text/plain": [
       "[<matplotlib.lines.Line2D at 0x7fb00468f978>]"
      ]
     },
     "execution_count": 14,
     "metadata": {},
     "output_type": "execute_result"
    },
    {
     "data": {
      "image/png": "[encoded data removed]",
      "text/plain": [
       "<matplotlib.figure.Figure at 0x7fb00694de80>"
      ]
     },
     "metadata": {},
     "output_type": "display_data"
    }
   ],
   "source": [
    "import matplotlib.pyplot as plt\n",
    "import matplotlib.ticker as ticker\n",
    "%matplotlib inline\n",
    "\n",
    "plt.figure()\n",
    "plt.plot(all_losses)"
   ]
  }
 ],
 "metadata": {
  "kernelspec": {
   "display_name": "Python 3",
   "language": "python",
   "name": "python3"
  },
  "language_info": {
   "codemirror_mode": {
    "name": "ipython",
    "version": 3
   },
   "file_extension": ".py",
   "mimetype": "text/x-python",
   "name": "python",
   "nbconvert_exporter": "python",
   "pygments_lexer": "ipython3",
   "version": "3.5.2"
  },
  "widgets": {
   "state": {},
   "version": "1.1.2"
  }
 },
 "nbformat": 4,
 "nbformat_minor": 2
}
